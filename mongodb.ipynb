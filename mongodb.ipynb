{
 "cells": [
  {
   "cell_type": "markdown",
   "metadata": {},
   "source": [
    "# Volume 3: MongoDB.\n",
    "    <Erin Matheson>\n",
    "    <Vol 3, 403>\n",
    "    <16 November, 2017>"
   ]
  },
  {
   "cell_type": "code",
   "execution_count": 89,
   "metadata": {
    "collapsed": false
   },
   "outputs": [],
   "source": [
    "import re\n",
    "import json\n",
    "from pymongo import MongoClient\n"
   ]
  },
  {
   "cell_type": "code",
   "execution_count": 98,
   "metadata": {
    "collapsed": false
   },
   "outputs": [],
   "source": [
    "#$ sudo mkdir -p /data/db   # Make a place for the server to store information\n",
    "#$ sudo mongod              # Start the server up / run Mongo in the background\n",
    "\n",
    "client = MongoClient()"
   ]
  },
  {
   "cell_type": "code",
   "execution_count": 99,
   "metadata": {
    "collapsed": false
   },
   "outputs": [],
   "source": [
    "db1 = client.db1\n",
    "coll = db1.collection2"
   ]
  },
  {
   "cell_type": "code",
   "execution_count": 41,
   "metadata": {
    "collapsed": false
   },
   "outputs": [],
   "source": [
    "# client.database_names()"
   ]
  },
  {
   "cell_type": "markdown",
   "metadata": {},
   "source": [
    "## Problem 1\n",
    "\n",
    "The file `trump.json` contains posts from http://www.twitter.com (tweets) over the course of an hour that have the key word \"trump\".\n",
    "Each line in the file is a single JSON message that can be loaded with `json.loads()`.\n",
    "\n",
    "Create a MongoDB database and initialize a collection in the database.\n",
    "Use the collection's `delete_many()` method with an empy set as input to clear existing contents of the collection, then fill the collection one line at a time with the data from `trump.json`.\n",
    "Check that your collection has 95,643 entries with its `count()` method."
   ]
  },
  {
   "cell_type": "code",
   "execution_count": 42,
   "metadata": {
    "collapsed": true
   },
   "outputs": [],
   "source": [
    "coll.delete_many({})\n",
    "\n",
    "with open(\"trump.json\", 'r') as infile:\n",
    "    for line in infile:\n",
    "        coll.insert_one(json.loads(line))\n",
    "\n",
    "# so does it save this and I don't need to run it every time?"
   ]
  },
  {
   "cell_type": "code",
   "execution_count": 7,
   "metadata": {
    "collapsed": false
   },
   "outputs": [
    {
     "data": {
      "text/plain": [
       "95643"
      ]
     },
     "execution_count": 7,
     "metadata": {},
     "output_type": "execute_result"
    }
   ],
   "source": [
    "coll.count()\n",
    "# count is 95643 "
   ]
  },
  {
   "cell_type": "markdown",
   "metadata": {},
   "source": [
    "## Problem 2\n",
    "\n",
    "Query the Twitter collection for the following information.\n",
    "- How many tweets include the word Russia? Use `re.IGNORECASE`.\n",
    "- How many tweets came from one of the main continental US time zones? These are listed as `\"Central Time (US & Canada)\"`, `\"Pacific Time (US & Canada)\"`, `\"Eastern Time (US & Canada)\"`, and `\"Mountain Time (US & Canada)\"`.\n",
    "- How often does each language occur? Construct a dictionary with each language and it’s frequency count."
   ]
  },
  {
   "cell_type": "code",
   "execution_count": 79,
   "metadata": {
    "collapsed": false
   },
   "outputs": [],
   "source": [
    "#!head trump.json"
   ]
  },
  {
   "cell_type": "code",
   "execution_count": 82,
   "metadata": {
    "collapsed": true
   },
   "outputs": [
    {
     "data": {
      "text/plain": [
       "{'_id': ObjectId('5a1f158e13ff6f0e2513d715'),\n",
       " 'contributors': None,\n",
       " 'coordinates': {'coordinates': [19.4544773, 51.7765107], 'type': 'Point'},\n",
       " 'created_at': 'Fri May 26 19:18:50 +0000 2017',\n",
       " 'entities': {'hashtags': [{'indices': [0, 4], 'text': 'rus'}],\n",
       "  'symbols': [],\n",
       "  'urls': [{'display_url': 'pravda.ru/news/world/26-…',\n",
       "    'expanded_url': 'https://www.pravda.ru/news/world/26-05-2017/1335543-trump-0/',\n",
       "    'indices': [63, 86],\n",
       "    'url': 'https://t.co/uXXD83llym'}],\n",
       "  'user_mentions': []},\n",
       " 'favorite_count': 0,\n",
       " 'favorited': False,\n",
       " 'filter_level': 'low',\n",
       " 'geo': {'coordinates': [51.7765107, 19.4544773], 'type': 'Point'},\n",
       " 'id': 868184671607296001,\n",
       " 'id_str': '868184671607296001',\n",
       " 'in_reply_to_screen_name': None,\n",
       " 'in_reply_to_status_id': None,\n",
       " 'in_reply_to_status_id_str': None,\n",
       " 'in_reply_to_user_id': None,\n",
       " 'in_reply_to_user_id_str': None,\n",
       " 'is_quote_status': False,\n",
       " 'lang': 'ru',\n",
       " 'place': {'attributes': {},\n",
       "  'bounding_box': {'coordinates': [[[19.320808, 51.686377],\n",
       "     [19.320808, 51.860354],\n",
       "     [19.640373, 51.860354],\n",
       "     [19.640373, 51.686377]]],\n",
       "   'type': 'Polygon'},\n",
       "  'country': 'Poland',\n",
       "  'country_code': 'PL',\n",
       "  'full_name': 'Lodz, Poland',\n",
       "  'id': 'd95b50d40bcc459b',\n",
       "  'name': 'Lodz',\n",
       "  'place_type': 'city',\n",
       "  'url': 'https://api.twitter.com/1.1/geo/id/d95b50d40bcc459b.json'},\n",
       " 'possibly_sensitive': False,\n",
       " 'retweet_count': 0,\n",
       " 'retweeted': False,\n",
       " 'source': '<a href=\"http://tapbots.com/tweetbot\" rel=\"nofollow\">Tweetbot 3 for iΟS</a>',\n",
       " 'text': '#rus США превыше всего: как Трамп испортил европейцам праздник https://t.co/uXXD83llym',\n",
       " 'timestamp_ms': '1495826330459',\n",
       " 'truncated': False,\n",
       " 'user': {'contributors_enabled': False,\n",
       "  'created_at': 'Sat Mar 30 17:25:49 +0000 2013',\n",
       "  'default_profile': False,\n",
       "  'default_profile_image': False,\n",
       "  'description': '🙉🙈🙊',\n",
       "  'favourites_count': 0,\n",
       "  'follow_request_sent': None,\n",
       "  'followers_count': 510,\n",
       "  'following': None,\n",
       "  'friends_count': 276,\n",
       "  'geo_enabled': True,\n",
       "  'id': 1316862031,\n",
       "  'id_str': '1316862031',\n",
       "  'is_translator': False,\n",
       "  'lang': 'en',\n",
       "  'listed_count': 328,\n",
       "  'location': 'Łódź, Polska',\n",
       "  'name': 'Piotr Dybiec',\n",
       "  'notifications': None,\n",
       "  'profile_background_color': '7E8284',\n",
       "  'profile_background_image_url': 'http://pbs.twimg.com/profile_background_images/574209167126237186/dZtYDYfY.png',\n",
       "  'profile_background_image_url_https': 'https://pbs.twimg.com/profile_background_images/574209167126237186/dZtYDYfY.png',\n",
       "  'profile_background_tile': True,\n",
       "  'profile_banner_url': 'https://pbs.twimg.com/profile_banners/1316862031/1462972099',\n",
       "  'profile_image_url': 'http://pbs.twimg.com/profile_images/857877374444109825/0La9C91v_normal.png',\n",
       "  'profile_image_url_https': 'https://pbs.twimg.com/profile_images/857877374444109825/0La9C91v_normal.png',\n",
       "  'profile_link_color': '3679CE',\n",
       "  'profile_sidebar_border_color': '000000',\n",
       "  'profile_sidebar_fill_color': 'DDEEF6',\n",
       "  'profile_text_color': '333333',\n",
       "  'profile_use_background_image': True,\n",
       "  'protected': False,\n",
       "  'screen_name': 'pidybi',\n",
       "  'statuses_count': 299698,\n",
       "  'time_zone': 'Warsaw',\n",
       "  'url': 'https://pidybi.pl/',\n",
       "  'utc_offset': 7200,\n",
       "  'verified': False}}"
      ]
     },
     "execution_count": 82,
     "metadata": {},
     "output_type": "execute_result"
    }
   ],
   "source": [
    "coll.find_one({'coordinates': {'$ne': None}})\n",
    "# not equals None"
   ]
  },
  {
   "cell_type": "code",
   "execution_count": 43,
   "metadata": {
    "collapsed": false
   },
   "outputs": [
    {
     "data": {
      "text/plain": [
       "5841"
      ]
     },
     "execution_count": 43,
     "metadata": {},
     "output_type": "execute_result"
    }
   ],
   "source": [
    "results = coll.find({'text': re.compile('russia', re.IGNORECASE)})\n",
    "results.count()\n",
    "#5841"
   ]
  },
  {
   "cell_type": "code",
   "execution_count": 100,
   "metadata": {
    "collapsed": false
   },
   "outputs": [
    {
     "name": "stdout",
     "output_type": "stream",
     "text": [
      "33939 tweets came from the 4 Main Time Zones\n"
     ]
    }
   ],
   "source": [
    "Zone = coll.distinct('user.time_zone')\n",
    "#print(Zone)\n",
    "Zone = coll.find({'user.time_zone': {'$in' : [\"Central Time (US & Canada)\", \"Pacific Time (US & Canada)\", \"Eastern Time (US & Canada)\", \"Mountain Time (US & Canada)\" ]}})\n",
    "\n",
    "print(\"{} tweets came from the 4 Main Time Zones\".format(Zone.count()))"
   ]
  },
  {
   "cell_type": "code",
   "execution_count": 25,
   "metadata": {
    "collapsed": false
   },
   "outputs": [
    {
     "name": "stdout",
     "output_type": "stream",
     "text": [
      "{'en': 84919, 'fr': 1235, 'es': 3027, 'tr': 588, 'nl': 212, 'pt': 632, 'und': 1653, 'it': 423, 'de': 635, 'da': 35, 'zh': 1, 'ru': 29, 'pl': 108, 'no': 21, 'eu': 6, 'tl': 48, 'in': 121, 'cs': 13, 'ht': 21, 'ro': 21, 'sl': 3, 'sv': 55, 'fi': 20, 'ar': 30, 'et': 23, 'lt': 8, 'hu': 6, 'el': 10, 'ja': 17, 'lv': 2, 'vi': 7, 'fa': 5, 'ko': 2, 'ur': 1, 'cy': 2, 'th': 3, 'is': 1, 'iw': 1, 'uk': 3}\n"
     ]
    }
   ],
   "source": [
    "# Languages: lang\n",
    "\n",
    "Lang = coll.find({\"lang\": {'$exists': True}})\n",
    "Lang.count()\n",
    "\n",
    "languages = coll.distinct(\"lang\")\n",
    "#print(languages)\n",
    "\n",
    "lang_dict = {}\n",
    "\n",
    "for l in languages:\n",
    "    \n",
    "    amount = coll.find({\"lang\": l})\n",
    "    \n",
    "    lang_dict[l] = amount.count()\n",
    "      \n",
    "print(lang_dict)"
   ]
  },
  {
   "cell_type": "markdown",
   "metadata": {},
   "source": [
    "## Problem 3\n",
    "\n",
    "Query the Twitter collection from Problem 1 for the following information.\n",
    "- What are the usernames of the 5 most popular (defined as having the most followers) tweeters? Don’t include repeats.\n",
    "- Of the tweets containing at least 5 hashtags, sort the tweets by how early the 5th hashtag appears in the text. What is the earliest spot (character count) it appears?\n",
    "- What are the coordinates of the tweet that came from the northernmost location? Use the latitude and longitude point in `\"coordinates\"`."
   ]
  },
  {
   "cell_type": "code",
   "execution_count": 72,
   "metadata": {
    "collapsed": true
   },
   "outputs": [
    {
     "data": {
      "text/plain": [
       "{'_id': ObjectId('5a1f158c13ff6f0e2513d431'),\n",
       " 'contributors': None,\n",
       " 'coordinates': None,\n",
       " 'created_at': 'Fri May 26 19:18:30 +0000 2017',\n",
       " 'entities': {'hashtags': [{'indices': [112, 117], 'text': 'maga'},\n",
       "   {'indices': [118, 129], 'text': 'trumptrain'},\n",
       "   {'indices': [130, 136], 'text': 'trump'}],\n",
       "  'symbols': [],\n",
       "  'urls': [{'display_url': 'truthfeed.com/liberal-spin-d…',\n",
       "    'expanded_url': 'http://truthfeed.com/liberal-spin-democrats-are-saying-that-losing-in-montana-is-a-win/76338/',\n",
       "    'indices': [88, 111],\n",
       "    'url': 'https://t.co/t6QJFs0i4S'}],\n",
       "  'user_mentions': [{'id': 707278892801765377,\n",
       "    'id_str': '707278892801765377',\n",
       "    'indices': [3, 17],\n",
       "    'name': 'TruthFeed News',\n",
       "    'screen_name': 'TruthFeedNews'}]},\n",
       " 'favorite_count': 0,\n",
       " 'favorited': False,\n",
       " 'filter_level': 'low',\n",
       " 'geo': None,\n",
       " 'id': 868184586844549121,\n",
       " 'id_str': '868184586844549121',\n",
       " 'in_reply_to_screen_name': None,\n",
       " 'in_reply_to_status_id': None,\n",
       " 'in_reply_to_status_id_str': None,\n",
       " 'in_reply_to_user_id': None,\n",
       " 'in_reply_to_user_id_str': None,\n",
       " 'is_quote_status': False,\n",
       " 'lang': 'en',\n",
       " 'place': None,\n",
       " 'possibly_sensitive': False,\n",
       " 'retweet_count': 0,\n",
       " 'retweeted': False,\n",
       " 'retweeted_status': {'contributors': None,\n",
       "  'coordinates': None,\n",
       "  'created_at': 'Fri May 26 17:17:41 +0000 2017',\n",
       "  'entities': {'hashtags': [{'indices': [93, 98], 'text': 'maga'},\n",
       "    {'indices': [99, 110], 'text': 'trumptrain'},\n",
       "    {'indices': [111, 117], 'text': 'trump'}],\n",
       "   'symbols': [],\n",
       "   'urls': [{'display_url': 'truthfeed.com/liberal-spin-d…',\n",
       "     'expanded_url': 'http://truthfeed.com/liberal-spin-democrats-are-saying-that-losing-in-montana-is-a-win/76338/',\n",
       "     'indices': [69, 92],\n",
       "     'url': 'https://t.co/t6QJFs0i4S'}],\n",
       "   'user_mentions': []},\n",
       "  'favorite_count': 25,\n",
       "  'favorited': False,\n",
       "  'filter_level': 'low',\n",
       "  'geo': None,\n",
       "  'id': 868154183190552576,\n",
       "  'id_str': '868154183190552576',\n",
       "  'in_reply_to_screen_name': None,\n",
       "  'in_reply_to_status_id': None,\n",
       "  'in_reply_to_status_id_str': None,\n",
       "  'in_reply_to_user_id': None,\n",
       "  'in_reply_to_user_id_str': None,\n",
       "  'is_quote_status': False,\n",
       "  'lang': 'en',\n",
       "  'place': None,\n",
       "  'possibly_sensitive': False,\n",
       "  'retweet_count': 29,\n",
       "  'retweeted': False,\n",
       "  'source': '<a href=\"http://twitter.com\" rel=\"nofollow\">Twitter Web Client</a>',\n",
       "  'text': 'LIBERAL SPIN: Democrats Are Saying That Losing in Montana is \"A Win\" https://t.co/t6QJFs0i4S #maga #trumptrain #trump',\n",
       "  'truncated': False,\n",
       "  'user': {'contributors_enabled': False,\n",
       "   'created_at': 'Tue Mar 08 18:56:43 +0000 2016',\n",
       "   'default_profile': False,\n",
       "   'default_profile_image': False,\n",
       "   'description': 'Find us at https://truthfeed.com and on FB https://www.facebook.com/truthfeed',\n",
       "   'favourites_count': 358,\n",
       "   'follow_request_sent': None,\n",
       "   'followers_count': 17444,\n",
       "   'following': None,\n",
       "   'friends_count': 16,\n",
       "   'geo_enabled': False,\n",
       "   'id': 707278892801765377,\n",
       "   'id_str': '707278892801765377',\n",
       "   'is_translator': False,\n",
       "   'lang': 'en',\n",
       "   'listed_count': 223,\n",
       "   'location': None,\n",
       "   'name': 'TruthFeed News',\n",
       "   'notifications': None,\n",
       "   'profile_background_color': '000000',\n",
       "   'profile_background_image_url': 'http://abs.twimg.com/images/themes/theme1/bg.png',\n",
       "   'profile_background_image_url_https': 'https://abs.twimg.com/images/themes/theme1/bg.png',\n",
       "   'profile_background_tile': False,\n",
       "   'profile_banner_url': 'https://pbs.twimg.com/profile_banners/707278892801765377/1484913229',\n",
       "   'profile_image_url': 'http://pbs.twimg.com/profile_images/724552641766813696/FYuVNVh6_normal.jpg',\n",
       "   'profile_image_url_https': 'https://pbs.twimg.com/profile_images/724552641766813696/FYuVNVh6_normal.jpg',\n",
       "   'profile_link_color': 'ABB8C2',\n",
       "   'profile_sidebar_border_color': '000000',\n",
       "   'profile_sidebar_fill_color': '000000',\n",
       "   'profile_text_color': '000000',\n",
       "   'profile_use_background_image': False,\n",
       "   'protected': False,\n",
       "   'screen_name': 'TruthFeedNews',\n",
       "   'statuses_count': 12987,\n",
       "   'time_zone': None,\n",
       "   'url': 'http://truthfeed.com',\n",
       "   'utc_offset': None,\n",
       "   'verified': False}},\n",
       " 'source': '<a href=\"http://twitter.com\" rel=\"nofollow\">Twitter Web Client</a>',\n",
       " 'text': 'RT @TruthFeedNews: LIBERAL SPIN: Democrats Are Saying That Losing in Montana is \"A Win\" https://t.co/t6QJFs0i4S #maga #trumptrain #trump',\n",
       " 'timestamp_ms': '1495826310250',\n",
       " 'truncated': False,\n",
       " 'user': {'contributors_enabled': False,\n",
       "  'created_at': 'Sun Jul 27 11:41:12 +0000 2008',\n",
       "  'default_profile': False,\n",
       "  'default_profile_image': False,\n",
       "  'description': 'Liberated #Hollywood entertainment industry artist and producer. Exposing #scumbags...especially #illuminati, #warmongers and #zionists. #CorruptionDisruption',\n",
       "  'favourites_count': 15622,\n",
       "  'follow_request_sent': None,\n",
       "  'followers_count': 5393,\n",
       "  'following': None,\n",
       "  'friends_count': 2551,\n",
       "  'geo_enabled': False,\n",
       "  'id': 15619384,\n",
       "  'id_str': '15619384',\n",
       "  'is_translator': False,\n",
       "  'lang': 'en',\n",
       "  'listed_count': 148,\n",
       "  'location': 'Hollywood, California',\n",
       "  'name': 'gab.ai/Meowma',\n",
       "  'notifications': None,\n",
       "  'profile_background_color': '333333',\n",
       "  'profile_background_image_url': 'http://pbs.twimg.com/profile_background_images/2941822/stars_background.png',\n",
       "  'profile_background_image_url_https': 'https://pbs.twimg.com/profile_background_images/2941822/stars_background.png',\n",
       "  'profile_background_tile': True,\n",
       "  'profile_banner_url': 'https://pbs.twimg.com/profile_banners/15619384/1480107420',\n",
       "  'profile_image_url': 'http://pbs.twimg.com/profile_images/803094514860756992/h0jdrPo3_normal.jpg',\n",
       "  'profile_image_url_https': 'https://pbs.twimg.com/profile_images/803094514860756992/h0jdrPo3_normal.jpg',\n",
       "  'profile_link_color': '0000FF',\n",
       "  'profile_sidebar_border_color': '87BC44',\n",
       "  'profile_sidebar_fill_color': '94A6FF',\n",
       "  'profile_text_color': '666666',\n",
       "  'profile_use_background_image': True,\n",
       "  'protected': False,\n",
       "  'screen_name': 'Meowma',\n",
       "  'statuses_count': 22216,\n",
       "  'time_zone': 'Pacific Time (US & Canada)',\n",
       "  'url': 'https://youtu.be/PkBxePSZ1ZI',\n",
       "  'utc_offset': -25200,\n",
       "  'verified': False}}"
      ]
     },
     "execution_count": 72,
     "metadata": {},
     "output_type": "execute_result"
    }
   ],
   "source": [
    "coll.find_one({})"
   ]
  },
  {
   "cell_type": "code",
   "execution_count": 124,
   "metadata": {
    "collapsed": false
   },
   "outputs": [
    {
     "name": "stdout",
     "output_type": "stream",
     "text": [
      "['CNN', 'Reuters Top News', 'Fox News', 'Wall Street Journal', 'TIME']\n"
     ]
    }
   ],
   "source": [
    "#users = coll.distinct(\"name\")\n",
    "\n",
    "# sort tweets by popularity:\n",
    "\n",
    "TopTweets = coll.find({'name': {'$exists':True}})#.sort('followers_count', -1)\n",
    "# .sort by () right after this ?\n",
    "# if you do name can you only sort by name ???\n",
    "\n",
    "Top_followed = coll.find({'user.followers_count': {'$exists': True}}).sort('user.followers_count', -1)#[:20]\n",
    "\n",
    "Top_users = []\n",
    "i = 0\n",
    "while len(Top_users) != 5:\n",
    "    \n",
    "    tweet = Top_followed[i]\n",
    "\n",
    "    if tweet['user']['name'] not in Top_users:\n",
    "        Top_users.append(tweet['user']['name'])\n",
    "        \n",
    "    i+=1\n",
    "    \n",
    "print(list(Top_users))"
   ]
  },
  {
   "cell_type": "code",
   "execution_count": 139,
   "metadata": {
    "collapsed": false
   },
   "outputs": [
    {
     "name": "stdout",
     "output_type": "stream",
     "text": [
      "The earliest 5th hashtag appears at the 23rd index.\n"
     ]
    }
   ],
   "source": [
    "\n",
    "''' Example\n",
    "entities': {'hashtags': [{'indices': [112, 117], 'text': 'maga'},\n",
    "   {'indices': [118, 129], 'text': 'trumptrain'},\n",
    "   {'indices': [130, 136], 'text': 'trump'}],'''\n",
    "\n",
    "hashtags = coll.find({'entities.hashtags.4': {'$exists' : True}})\n",
    "                        # 4 is the 4th index/5th entry of a list\n",
    "\n",
    "sorted_h = hashtags.sort('entities.hashtags.4.indices.0')\n",
    "# sorted the cursor's results\n",
    "#print((sorted_h.count()))\n",
    "# can do .count on cursors\n",
    "\n",
    "earliest = sorted_h[0]['entities']['hashtags'][4]['indices'][0]\n",
    "\n",
    "print(\"The earliest 5th hashtag appears at the {}rd index.\".format(earliest))\n",
    "# sort the tweets by how early the FIFTH text appears"
   ]
  },
  {
   "cell_type": "code",
   "execution_count": 144,
   "metadata": {
    "collapsed": false
   },
   "outputs": [
    {
     "name": "stdout",
     "output_type": "stream",
     "text": [
      "20\n",
      "[28.99237342, 41.06803023]\n"
     ]
    }
   ],
   "source": [
    "\n",
    "# Coordinates of northernmost tweet...\n",
    "\n",
    "Coordinates = coll.find({'coordinates.coordinates': {'$ne': None}})\n",
    "                                               # not equal to None\n",
    "    \n",
    "#print(Coordinates.count())\n",
    "\n",
    "sort_coor = Coordinates.sort('coordinates.coordinates.0', -1)\n",
    "Northern_most = sort_coor[0]['coordinates']['coordinates']\n",
    "\n",
    "print(Northern_most)\n",
    "\n",
    "# Latitude is horizontal and Should be 1st entry\n",
    "#but this data set is unclear\n"
   ]
  },
  {
   "cell_type": "markdown",
   "metadata": {},
   "source": [
    "## Problem 4\n",
    "\n",
    "Clean the Twitter collection in the following ways.\n",
    "\n",
    "- Get rid of the `\"retweeted_status\"` field in each tweet.\n",
    "- Update every tweet from someone with at least 1000 followers to include a popular field whose value is True. Report the number of popular tweets.\n",
    "\n",
    "\n",
    "\n",
    "- (OPTIONAL) The geographical coordinates used before in coordinates.coordinates are turned off for most tweets. But many more have a bounding box around the coordinates in the place field. Update every tweet without coordinates that contains a bounding box so that the coordinates contains the average value of the points that form the bounding box. Make the structure of coordinates the same as the others, so it contains coordinates with a longitude, latitude array and a type, the value of which should be ’Point’."
   ]
  },
  {
   "cell_type": "code",
   "execution_count": 105,
   "metadata": {
    "collapsed": false
   },
   "outputs": [],
   "source": [
    "# do i have to set it equal to something? No -it doesn't work\n",
    "coll.update_many({}, {'$unset': {'retweeted_status': None}})\n",
    "# changes it to None- gets rid of it\n"
   ]
  },
  {
   "cell_type": "code",
   "execution_count": 145,
   "metadata": {
    "collapsed": false
   },
   "outputs": [
    {
     "name": "stdout",
     "output_type": "stream",
     "text": [
      "dict_keys(['_id', 'created_at', 'id', 'id_str', 'text', 'source', 'truncated', 'in_reply_to_status_id', 'in_reply_to_status_id_str', 'in_reply_to_user_id', 'in_reply_to_user_id_str', 'in_reply_to_screen_name', 'user', 'geo', 'coordinates', 'place', 'contributors', 'is_quote_status', 'retweet_count', 'favorite_count', 'entities', 'favorited', 'retweeted', 'possibly_sensitive', 'filter_level', 'lang', 'timestamp_ms', 'popular'])\n"
     ]
    }
   ],
   "source": [
    "#print(coll.find_one().keys())"
   ]
  },
  {
   "cell_type": "code",
   "execution_count": 142,
   "metadata": {
    "collapsed": false
   },
   "outputs": [
    {
     "name": "stdout",
     "output_type": "stream",
     "text": [
      "32489 top popular tweets (tweets from users with 1000+ followers).\n"
     ]
    }
   ],
   "source": [
    "\n",
    "coll.update_many( {'user.followers_count': {'$gte': 1000}}, {'$set': {'popular': True}} )\n",
    "\n",
    "Pop = coll.find({'popular': {'$exists': True}})\n",
    "print(\"{} top popular tweets (tweets from users with 1000+ followers).\".format(Pop.count()))\n"
   ]
  },
  {
   "cell_type": "code",
   "execution_count": null,
   "metadata": {
    "collapsed": true
   },
   "outputs": [],
   "source": []
  }
 ],
 "metadata": {
  "anaconda-cloud": {},
  "kernelspec": {
   "display_name": "Python [py36]",
   "language": "python",
   "name": "Python [py36]"
  },
  "language_info": {
   "codemirror_mode": {
    "name": "ipython",
    "version": 3
   },
   "file_extension": ".py",
   "mimetype": "text/x-python",
   "name": "python",
   "nbconvert_exporter": "python",
   "pygments_lexer": "ipython3",
   "version": "3.6.3"
  }
 },
 "nbformat": 4,
 "nbformat_minor": 2
}
