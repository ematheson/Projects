{
 "cells": [
  {
   "cell_type": "code",
   "execution_count": 1,
   "metadata": {
    "collapsed": false
   },
   "outputs": [],
   "source": [
    "import numpy as np\n",
    "from random import shuffle\n",
    "import scipy.io.wavfile\n",
    "import MFCC\n",
    "import gmmhmm\n",
    "\n",
    "import glob\n",
    "import pickle"
   ]
  },
  {
   "cell_type": "code",
   "execution_count": 2,
   "metadata": {
    "collapsed": false
   },
   "outputs": [],
   "source": [
    "A = np.array([[.65, .35], [.15, .85]])\n",
    "pi = np.array([.8, .2])\n",
    "weights = np.array([[.7, .2, .1], [.1, .5, .4]])\n",
    "means1 = np.array([[0., 17., -4.], [5., -12., -8.], [-16., 22., 2.]])\n",
    "means2 = np.array([[-5., 3., 23.], [-12., -2., 14.], [15., -32., 0.]])\n",
    "means = np.array([means1, means2])\n",
    "covars1 = np.array([5*np.eye(3), 7*np.eye(3), np.eye(3)])\n",
    "covars2 = np.array([10*np.eye(3), 3*np.eye(3), 4*np.eye(3)])\n",
    "covars = np.array([covars1, covars2])\n",
    "Gmmhmm = [A, weights, means, covars, pi]\n",
    "# using 1 as current state\n",
    "sample_component = np.argmax(np.random.multinomial(1, weights[1,:]))\n",
    "sample = np.random.multivariate_normal(means[1, sample_component, :], -covars[1, sample_component, :, :])"
   ]
  },
  {
   "cell_type": "markdown",
   "metadata": {},
   "source": [
    "### Problem 1\n",
    "\n",
    "Write a function which accepts a GMMHMM in the format above as well as an integer n_sim, and which simulates the GMMHMM process, generating n_sim different observations. Do so by implementing the following function declaration."
   ]
  },
  {
   "cell_type": "code",
   "execution_count": 3,
   "metadata": {
    "collapsed": true
   },
   "outputs": [],
   "source": [
    "def sample_gmmhmm(gmmhmm, n_sim):\n",
    "    \"\"\"\n",
    "    Simulate sampling from a GMMHMM.\n",
    "    Returns\n",
    "    -------\n",
    "    sequence of states : ndarray of shape (n_sim,)\n",
    "    \n",
    "    observations : ndarray of shape (n_sim, K) ;(column vectors of length K)\n",
    "    \"\"\"\n",
    "    [A, weights, means, covars, pi] = gmmhmm\n",
    "    \n",
    "    #classes = len(pi)\n",
    "    \n",
    "    state1 = np.argmax(np.random.multinomial(1, pi))\n",
    "    \n",
    "    obs = []\n",
    "    st = [state1]\n",
    "    \n",
    "    for _ in range(n_sim):\n",
    "     \n",
    "        sample_component = np.argmax(np.random.multinomial(1, weights[state1,:]))\n",
    "        sample = np.random.multivariate_normal(means[state1, sample_component, :], -covars[state1, sample_component, :, :])\n",
    "        obs.append(sample)\n",
    "        \n",
    "        next_state = np.argmax(np.random.multinomial(1, A[state1]))\n",
    "        st.append(next_state)\n",
    "        \n",
    "        state1 = next_state\n",
    "\n",
    "        \n",
    "    return st, obs"
   ]
  },
  {
   "cell_type": "code",
   "execution_count": 4,
   "metadata": {
    "collapsed": false
   },
   "outputs": [
    {
     "name": "stdout",
     "output_type": "stream",
     "text": [
      "([0, 1, 1, 1], [array([-16.,  22.,   2.]), array([-12.,  -2.,  14.]), array([ 15., -32.,   0.])])\n"
     ]
    }
   ],
   "source": [
    "print(sample_gmmhmm(Gmmhmm, 3))"
   ]
  },
  {
   "cell_type": "markdown",
   "metadata": {},
   "source": [
    "### Problem 2\n",
    "\n",
    "Obtain 30 (or more) recordings for each of the words/phrases mathematics, biology, political science, psychology, and statistics. These audio samples should be 2 seconds in duration, recorded at a rate of 44100 samples per second, with samples stored as 16-bit signed integers in WAV format. Load the recordings into Python using scipy.io.wavfile.read.\n",
    "\n",
    "If the audio files have two channels, average these channels to obtain an array of length 88200 for each sample. Extract the MFCCs from each sample using code from the file MFCC.py. Store the MFCCs for each word in a separate list. You should have five lists, each containing 50 MFCC arrays, corresponding to each of the five words under consideration.\n"
   ]
  },
  {
   "cell_type": "code",
   "execution_count": 28,
   "metadata": {
    "collapsed": true
   },
   "outputs": [
    {
     "name": "stdout",
     "output_type": "stream",
     "text": [
      "['CDHMMSoundFiles/biology/biology_01.wav', 'CDHMMSoundFiles/biology/biology_02.wav', 'CDHMMSoundFiles/biology/biology_03.wav', 'CDHMMSoundFiles/biology/biology_04.wav', 'CDHMMSoundFiles/biology/biology_05.wav', 'CDHMMSoundFiles/biology/biology_06.wav', 'CDHMMSoundFiles/biology/biology_07.wav', 'CDHMMSoundFiles/biology/biology_08.wav', 'CDHMMSoundFiles/biology/biology_09.wav', 'CDHMMSoundFiles/biology/biology_10.wav', 'CDHMMSoundFiles/biology/biology_11.wav', 'CDHMMSoundFiles/biology/biology_12.wav', 'CDHMMSoundFiles/biology/biology_13.wav', 'CDHMMSoundFiles/biology/biology_14.wav', 'CDHMMSoundFiles/biology/biology_15.wav', 'CDHMMSoundFiles/biology/biology_16.wav', 'CDHMMSoundFiles/biology/biology_17.wav', 'CDHMMSoundFiles/biology/biology_18.wav', 'CDHMMSoundFiles/biology/biology_19.wav', 'CDHMMSoundFiles/biology/biology_20.wav', 'CDHMMSoundFiles/biology/biology_21.wav', 'CDHMMSoundFiles/biology/biology_22.wav', 'CDHMMSoundFiles/biology/biology_23.wav', 'CDHMMSoundFiles/biology/biology_24.wav', 'CDHMMSoundFiles/biology/biology_25.wav', 'CDHMMSoundFiles/biology/biology_26.wav', 'CDHMMSoundFiles/biology/biology_27.wav', 'CDHMMSoundFiles/biology/biology_28.wav', 'CDHMMSoundFiles/biology/biology_29.wav', 'CDHMMSoundFiles/biology/biology_30.wav', 'CDHMMSoundFiles/biology/biology_31.wav', 'CDHMMSoundFiles/biology/biology_32.wav', 'CDHMMSoundFiles/biology/biology_33.wav', 'CDHMMSoundFiles/biology/biology_34.wav', 'CDHMMSoundFiles/biology/biology_35.wav', 'CDHMMSoundFiles/biology/biology_36.wav', 'CDHMMSoundFiles/biology/biology_37.wav', 'CDHMMSoundFiles/biology/biology_38.wav', 'CDHMMSoundFiles/biology/biology_39.wav', 'CDHMMSoundFiles/biology/biology_40.wav', 'CDHMMSoundFiles/biology/biology_41.wav', 'CDHMMSoundFiles/biology/biology_42.wav', 'CDHMMSoundFiles/biology/biology_43.wav']\n",
      "['CDHMMSoundFiles/mathematics/mathematics_01.wav', 'CDHMMSoundFiles/mathematics/mathematics_02.wav', 'CDHMMSoundFiles/mathematics/mathematics_03.wav', 'CDHMMSoundFiles/mathematics/mathematics_04.wav', 'CDHMMSoundFiles/mathematics/mathematics_05.wav', 'CDHMMSoundFiles/mathematics/mathematics_06.wav', 'CDHMMSoundFiles/mathematics/mathematics_07.wav', 'CDHMMSoundFiles/mathematics/mathematics_08.wav', 'CDHMMSoundFiles/mathematics/mathematics_09.wav', 'CDHMMSoundFiles/mathematics/mathematics_10.wav', 'CDHMMSoundFiles/mathematics/mathematics_11.wav', 'CDHMMSoundFiles/mathematics/mathematics_13.wav', 'CDHMMSoundFiles/mathematics/mathematics_14.wav', 'CDHMMSoundFiles/mathematics/mathematics_15.wav', 'CDHMMSoundFiles/mathematics/mathematics_16.wav', 'CDHMMSoundFiles/mathematics/mathematics_17.wav', 'CDHMMSoundFiles/mathematics/mathematics_18.wav', 'CDHMMSoundFiles/mathematics/mathematics_19.wav', 'CDHMMSoundFiles/mathematics/mathematics_20.wav', 'CDHMMSoundFiles/mathematics/mathematics_21.wav', 'CDHMMSoundFiles/mathematics/mathematics_22.wav', 'CDHMMSoundFiles/mathematics/mathematics_23.wav', 'CDHMMSoundFiles/mathematics/mathematics_24.wav', 'CDHMMSoundFiles/mathematics/mathematics_25.wav', 'CDHMMSoundFiles/mathematics/mathematics_26.wav', 'CDHMMSoundFiles/mathematics/mathematics_27.wav', 'CDHMMSoundFiles/mathematics/mathematics_28.wav', 'CDHMMSoundFiles/mathematics/mathematics_29.wav', 'CDHMMSoundFiles/mathematics/mathematics_30.wav', 'CDHMMSoundFiles/mathematics/mathematics_31.wav', 'CDHMMSoundFiles/mathematics/mathematics_32.wav', 'CDHMMSoundFiles/mathematics/mathematics_33.wav', 'CDHMMSoundFiles/mathematics/mathematics_34.wav', 'CDHMMSoundFiles/mathematics/mathematics_35.wav', 'CDHMMSoundFiles/mathematics/mathematics_36.wav', 'CDHMMSoundFiles/mathematics/mathematics_37.wav', 'CDHMMSoundFiles/mathematics/mathematics_38.wav', 'CDHMMSoundFiles/mathematics/mathematics_39.wav', 'CDHMMSoundFiles/mathematics/mathematics_40.wav', 'CDHMMSoundFiles/mathematics/mathematics_41.wav', 'CDHMMSoundFiles/mathematics/mathematics_42.wav']\n",
      "['CDHMMSoundFiles/polysci/polysci_01.wav', 'CDHMMSoundFiles/polysci/polysci_02.wav', 'CDHMMSoundFiles/polysci/polysci_03.wav', 'CDHMMSoundFiles/polysci/polysci_04.wav', 'CDHMMSoundFiles/polysci/polysci_05.wav', 'CDHMMSoundFiles/polysci/polysci_06.wav', 'CDHMMSoundFiles/polysci/polysci_07.wav', 'CDHMMSoundFiles/polysci/polysci_08.wav', 'CDHMMSoundFiles/polysci/polysci_09.wav', 'CDHMMSoundFiles/polysci/polysci_10.wav', 'CDHMMSoundFiles/polysci/polysci_11.wav', 'CDHMMSoundFiles/polysci/polysci_12.wav', 'CDHMMSoundFiles/polysci/polysci_13.wav', 'CDHMMSoundFiles/polysci/polysci_14.wav', 'CDHMMSoundFiles/polysci/polysci_15.wav', 'CDHMMSoundFiles/polysci/polysci_16.wav', 'CDHMMSoundFiles/polysci/polysci_17.wav', 'CDHMMSoundFiles/polysci/polysci_18.wav', 'CDHMMSoundFiles/polysci/polysci_19.wav', 'CDHMMSoundFiles/polysci/polysci_20.wav', 'CDHMMSoundFiles/polysci/polysci_21.wav', 'CDHMMSoundFiles/polysci/polysci_22.wav', 'CDHMMSoundFiles/polysci/polysci_23.wav', 'CDHMMSoundFiles/polysci/polysci_24.wav', 'CDHMMSoundFiles/polysci/polysci_25.wav', 'CDHMMSoundFiles/polysci/polysci_26.wav', 'CDHMMSoundFiles/polysci/polysci_27.wav', 'CDHMMSoundFiles/polysci/polysci_28.wav', 'CDHMMSoundFiles/polysci/polysci_29.wav', 'CDHMMSoundFiles/polysci/polysci_30.wav', 'CDHMMSoundFiles/polysci/polysci_31.wav', 'CDHMMSoundFiles/polysci/polysci_32.wav', 'CDHMMSoundFiles/polysci/polysci_33.wav', 'CDHMMSoundFiles/polysci/polysci_34.wav', 'CDHMMSoundFiles/polysci/polysci_35.wav', 'CDHMMSoundFiles/polysci/polysci_36.wav', 'CDHMMSoundFiles/polysci/polysci_37.wav', 'CDHMMSoundFiles/polysci/polysci_38.wav', 'CDHMMSoundFiles/polysci/polysci_39.wav', 'CDHMMSoundFiles/polysci/polysci_40.wav', 'CDHMMSoundFiles/polysci/polysci_41.wav', 'CDHMMSoundFiles/polysci/polysci_42.wav', 'CDHMMSoundFiles/polysci/polysci_43.wav', 'CDHMMSoundFiles/polysci/polysci_44.wav', 'CDHMMSoundFiles/polysci/polysci_45.wav', 'CDHMMSoundFiles/polysci/polysci_46.wav', 'CDHMMSoundFiles/polysci/polysci_47.wav', 'CDHMMSoundFiles/polysci/polysci_48.wav', 'CDHMMSoundFiles/polysci/polysci_49.wav', 'CDHMMSoundFiles/polysci/polysci_50.wav', 'CDHMMSoundFiles/polysci/polysci_51.wav']\n",
      "['CDHMMSoundFiles/psychology/psychology_01.wav', 'CDHMMSoundFiles/psychology/psychology_02.wav', 'CDHMMSoundFiles/psychology/psychology_03.wav', 'CDHMMSoundFiles/psychology/psychology_04.wav', 'CDHMMSoundFiles/psychology/psychology_05.wav', 'CDHMMSoundFiles/psychology/psychology_06.wav', 'CDHMMSoundFiles/psychology/psychology_07.wav', 'CDHMMSoundFiles/psychology/psychology_08.wav', 'CDHMMSoundFiles/psychology/psychology_09.wav', 'CDHMMSoundFiles/psychology/psychology_10.wav', 'CDHMMSoundFiles/psychology/psychology_11.wav', 'CDHMMSoundFiles/psychology/psychology_13.wav', 'CDHMMSoundFiles/psychology/psychology_14.wav', 'CDHMMSoundFiles/psychology/psychology_15.wav', 'CDHMMSoundFiles/psychology/psychology_16.wav', 'CDHMMSoundFiles/psychology/psychology_17.wav', 'CDHMMSoundFiles/psychology/psychology_18.wav', 'CDHMMSoundFiles/psychology/psychology_19.wav', 'CDHMMSoundFiles/psychology/psychology_20.wav', 'CDHMMSoundFiles/psychology/psychology_21.wav', 'CDHMMSoundFiles/psychology/psychology_22.wav', 'CDHMMSoundFiles/psychology/psychology_23.wav', 'CDHMMSoundFiles/psychology/psychology_24.wav', 'CDHMMSoundFiles/psychology/psychology_25.wav', 'CDHMMSoundFiles/psychology/psychology_26.wav', 'CDHMMSoundFiles/psychology/psychology_27.wav', 'CDHMMSoundFiles/psychology/psychology_28.wav', 'CDHMMSoundFiles/psychology/psychology_29.wav', 'CDHMMSoundFiles/psychology/psychology_30.wav', 'CDHMMSoundFiles/psychology/psychology_31.wav', 'CDHMMSoundFiles/psychology/psychology_32.wav', 'CDHMMSoundFiles/psychology/psychology_33.wav', 'CDHMMSoundFiles/psychology/psychology_34.wav', 'CDHMMSoundFiles/psychology/psychology_35.wav', 'CDHMMSoundFiles/psychology/psychology_36.wav', 'CDHMMSoundFiles/psychology/psychology_37.wav', 'CDHMMSoundFiles/psychology/psychology_38.wav', 'CDHMMSoundFiles/psychology/psychology_39.wav', 'CDHMMSoundFiles/psychology/psychology_40.wav', 'CDHMMSoundFiles/psychology/psychology_41.wav', 'CDHMMSoundFiles/psychology/psychology_42.wav', 'CDHMMSoundFiles/psychology/psychology_43.wav', 'CDHMMSoundFiles/psychology/psychology_44.wav', 'CDHMMSoundFiles/psychology/psychology_45.wav', 'CDHMMSoundFiles/psychology/psychology_46.wav']\n",
      "['CDHMMSoundFiles/statistics/statistics_01.wav', 'CDHMMSoundFiles/statistics/statistics_08.wav', 'CDHMMSoundFiles/statistics/statistics_09.wav', 'CDHMMSoundFiles/statistics/statistics_10.wav', 'CDHMMSoundFiles/statistics/statistics_11.wav', 'CDHMMSoundFiles/statistics/statistics_12.wav', 'CDHMMSoundFiles/statistics/statistics_13.wav', 'CDHMMSoundFiles/statistics/statistics_14.wav', 'CDHMMSoundFiles/statistics/statistics_15.wav', 'CDHMMSoundFiles/statistics/statistics_16.wav', 'CDHMMSoundFiles/statistics/statistics_17.wav', 'CDHMMSoundFiles/statistics/statistics_18.wav', 'CDHMMSoundFiles/statistics/statistics_19.wav', 'CDHMMSoundFiles/statistics/statistics_20.wav', 'CDHMMSoundFiles/statistics/statistics_21.wav', 'CDHMMSoundFiles/statistics/statistics_22.wav', 'CDHMMSoundFiles/statistics/statistics_23.wav', 'CDHMMSoundFiles/statistics/statistics_24.wav', 'CDHMMSoundFiles/statistics/statistics_25.wav', 'CDHMMSoundFiles/statistics/statistics_26.wav', 'CDHMMSoundFiles/statistics/statistics_27.wav', 'CDHMMSoundFiles/statistics/statistics_28.wav', 'CDHMMSoundFiles/statistics/statistics_29.wav', 'CDHMMSoundFiles/statistics/statistics_30.wav', 'CDHMMSoundFiles/statistics/statistics_31.wav', 'CDHMMSoundFiles/statistics/statistics_32.wav', 'CDHMMSoundFiles/statistics/statistics_33.wav', 'CDHMMSoundFiles/statistics/statistics_34.wav', 'CDHMMSoundFiles/statistics/statistics_35.wav']\n"
     ]
    }
   ],
   "source": [
    "names = [\"biology\", \"mathematics\", \"polysci\", \"psychology\", \"statistics\"]\n",
    "\n",
    "all_files = []\n",
    "\n",
    "for n in names:\n",
    "    \n",
    "    # get strings of file names\n",
    "    files = glob.glob(\"CDHMMSoundFiles/\"+n+'/'+n+'*')\n",
    "    \n",
    "    sounds = []\n",
    "    for f in files:\n",
    "        rate, signal = scipy.io.wavfile.read(f)\n",
    "        if rate != 44100: # check that all are 1 by 88200\n",
    "            raise ValueError(\"Bad sample rate\")\n",
    "        \n",
    "        sounds.append(MFCC.extract(signal))\n",
    "        \n",
    "    all_files.append(sounds)\n",
    "    "
   ]
  },
  {
   "cell_type": "code",
   "execution_count": 27,
   "metadata": {
    "collapsed": false
   },
   "outputs": [
    {
     "name": "stdout",
     "output_type": "stream",
     "text": [
      "(29,)\n",
      "(30, 198, 10)\n",
      "(30, 198, 10)\n",
      "(30, 198, 10)\n",
      "(30, 198, 10)\n",
      "(29,)\n"
     ]
    }
   ],
   "source": [
    "#print(len(all_files)) # 5\n",
    "\n",
    "# Testing\n",
    "#print(glob.glob(\"CDHMMSoundFiles/biology/biology*\"))\n",
    "\n",
    "B, M, Po, Ps, S = all_files\n",
    "\n",
    "B = B[:30]\n",
    "M = M[:30]\n",
    "Po = Po[:30]\n",
    "Ps = Ps[:30]\n",
    "S = S[:30]\n",
    "\n",
    "print(np.shape(B))\n",
    "print(np.shape(M))\n",
    "print(np.shape(Po))\n",
    "print(np.shape(Ps))\n",
    "print(np.shape(S)) # inside ones are different sizes"
   ]
  },
  {
   "cell_type": "code",
   "execution_count": 7,
   "metadata": {
    "collapsed": true
   },
   "outputs": [],
   "source": [
    "def initialize(n):\n",
    "    '''\n",
    "    n: number of states (integer)\n",
    "    Returns\n",
    "    pi: random initial state distribution \n",
    "    T: transition matrix (row-stochastic)\n",
    "    '''\n",
    "    \n",
    "    pi = np.random.normal(1/n, .01, size=n)\n",
    "    pi[-1] = 1- np.sum(pi[:-1])\n",
    "\n",
    "    T = np.random.normal(1/n, .01, size=(n,n))\n",
    "    T[:,-1] = 1- np.sum(T[:, :-1], axis=1)\n",
    "    \n",
    "    return pi, T"
   ]
  },
  {
   "cell_type": "code",
   "execution_count": null,
   "metadata": {
    "collapsed": false
   },
   "outputs": [],
   "source": [
    "#Pi, T, = initialize(5)\n",
    "#print(T)\n",
    "#print(np.sum(T, axis=1))"
   ]
  },
  {
   "cell_type": "markdown",
   "metadata": {},
   "source": [
    "### Problem 3\n",
    "\n",
    "Partition each list of MFCCs into a training set of 20 samples, and a test set of the remaining 10 samples.\n",
    "Using the training sets, train a GMMHMM on each of the words from the previous problem with at least 10 random restarts, keeping the best model for each word (the one with the highest log-likelihood). This process may take several minutes. Since you will not want to run this more than once, you will want to save the best model for each word to disk using the pickle module so that you can use it later."
   ]
  },
  {
   "cell_type": "code",
   "execution_count": 9,
   "metadata": {
    "collapsed": false
   },
   "outputs": [],
   "source": [
    "# split into test and train data\n",
    "\n",
    "# Biology\n",
    "shuffle(B)\n",
    "B_train, B_test = B[:20], B[20:]\n",
    "# Mathematics\n",
    "shuffle(M)\n",
    "M_train, M_test = M[:20], M[20:]\n",
    "# Polysci\n",
    "shuffle(Po)\n",
    "Po_train, Po_test = Po[:20], Po[20:]\n",
    "# Psychology\n",
    "shuffle(Ps)\n",
    "Ps_train, Ps_test = Ps[:20], Ps[20:]\n",
    "# Statistics\n",
    "shuffle(S)\n",
    "S_train, S_test = S[:20], S[20:]\n"
   ]
  },
  {
   "cell_type": "code",
   "execution_count": 14,
   "metadata": {
    "collapsed": false
   },
   "outputs": [],
   "source": [
    "# Biology model\n",
    "#logprob = -np.inf\n",
    "#for _ in range(10):\n",
    "    \n",
    "#    startprob, transmat = initialize(5)     # startprob is pi, transmat is T\n",
    "\n",
    "#    modelB = gmmhmm.GMMHMM(n_components=5, n_mix=3, transmat=transmat,\n",
    "#                          startprob=startprob, cvtype='diag')\n",
    "\n",
    "#    modelB.covars_prior = 0.01\n",
    "#    modelB.fit(B_train, init_params='mc', var=0.1)\n",
    "\n",
    "#    if modelB.logprob > logprob:\n",
    "#        logprob = modelB.logprob\n",
    "    \n",
    "#        pickle.dump(modelB, open(\"best_modelB.pickle\", \"wb\"))\n",
    "\n",
    "        \n",
    "# Mathematics model\n",
    "#logprob = -np.inf\n",
    "#for _ in range(10):\n",
    "    \n",
    "#    pi, T = initialize(5)\n",
    "\n",
    "#    modelM = gmmhmm.GMMHMM(n_components=5, n_mix=3, transmat=T,\n",
    "#                          startprob=pi, cvtype='diag')\n",
    "\n",
    "#    modelM.covars_prior = 0.01\n",
    "#    modelM.fit(M_train, init_params='mc', var=0.1)\n",
    "\n",
    "#    if modelM.logprob > logprob:\n",
    "#        logprob = modelM.logprob\n",
    "    \n",
    "#        pickle.dump(modelM, open(\"best_modelM.pickle\", \"wb\"))\n",
    "\n",
    "     \n",
    "# polysci model\n",
    "#logprob = -np.inf\n",
    "#for _ in range(10):\n",
    "    \n",
    "#    pi, T = initialize(5)\n",
    "\n",
    "#    modelPo = gmmhmm.GMMHMM(n_components=5, n_mix=3, transmat=T,\n",
    "#                          startprob=pi, cvtype='diag')\n",
    "\n",
    "#    modelPo.covars_prior = 0.01\n",
    "#    modelPo.fit(Po_train, init_params='mc', var=0.1)\n",
    "\n",
    "#    if modelPo.logprob > logprob:\n",
    "#        logprob = modelPo.logprob\n",
    "    \n",
    "#        pickle.dump(modelPo, open(\"best_modelPo.pickle\", \"wb\"))\n",
    "\n",
    "\n",
    "# psychology model\n",
    "#logprob = -np.inf\n",
    "#for _ in range(10):\n",
    "    \n",
    "#    pi, T = initialize(5)\n",
    "\n",
    "#    modelPs = gmmhmm.GMMHMM(n_components=5, n_mix=3, transmat=T,\n",
    "#                          startprob=pi, cvtype='diag')\n",
    "\n",
    "#    modelPs.covars_prior = 0.01\n",
    "#    modelPs.fit(Ps_train, init_params='mc', var=0.1)\n",
    "\n",
    "#    if modelPs.logprob > logprob:\n",
    "#        logprob = modelPs.logprob\n",
    "    \n",
    "#        pickle.dump(modelPs, open(\"best_modelPs.pickle\", \"wb\"))\n",
    "\n",
    "\n",
    "# statistics model\n",
    "#logprob = -np.inf\n",
    "#for _ in range(10):   \n",
    "#    pi, T = initialize(5)\n",
    "#    modelS = gmmhmm.GMMHMM(n_components=5, n_mix=3, transmat=T,\n",
    "#                          startprob=pi, cvtype='diag')\n",
    "#    modelS.covars_prior = 0.01\n",
    "#    modelS.fit(S_train, init_params='mc', var=0.1)\n",
    "#    if modelS.logprob > logprob:\n",
    "#        logprob = modelS.logprob   \n",
    "#        pickle.dump(modelS, open(\"best_modelS.pickle\", \"wb\"))\n"
   ]
  },
  {
   "cell_type": "code",
   "execution_count": 15,
   "metadata": {
    "collapsed": true
   },
   "outputs": [],
   "source": [
    "modelB = pickle.load( open(\"best_ModelB.pickle\", \"rb\") )\n",
    "modelM = pickle.load( open(\"best_ModelM.pickle\", \"rb\") )\n",
    "modelPo = pickle.load( open(\"best_ModelPo.pickle\", \"rb\") )\n",
    "modelPs = pickle.load( open(\"best_ModelPs.pickle\", \"rb\") )\n",
    "modelS = pickle.load( open(\"best_ModelS.pickle\", \"rb\") )"
   ]
  },
  {
   "cell_type": "markdown",
   "metadata": {},
   "source": [
    "### Problem 4\n",
    "\n",
    "Classify the 10 test samples for each word. How does your system perform? Which words are the hardest to correctly classify? Make a dictionary containing the accuracy of the classification of your five testing sets. Specifically, the words/phrases will be the keys, and the values will be the percent accuracy."
   ]
  },
  {
   "cell_type": "code",
   "execution_count": 29,
   "metadata": {
    "collapsed": false
   },
   "outputs": [
    {
     "name": "stdout",
     "output_type": "stream",
     "text": [
      "10 10 10 10 9\n",
      "Classified Biology as : statistics\n",
      "Classified Biology as : biology\n",
      "Classified Biology as : biology\n",
      "Classified Biology as : biology\n",
      "Classified Biology as : biology\n",
      "Classified Biology as : biology\n",
      "Classified Biology as : biology\n",
      "Classified Biology as : biology\n",
      "Classified Biology as : biology\n",
      "Classified Biology as : biology\n",
      "Classified Mathematics as : mathematics\n",
      "Classified Mathematics as : mathematics\n",
      "Classified Mathematics as : mathematics\n",
      "Classified Mathematics as : mathematics\n",
      "Classified Mathematics as : mathematics\n",
      "Classified Mathematics as : mathematics\n",
      "Classified Mathematics as : mathematics\n",
      "Classified Mathematics as : mathematics\n",
      "Classified Mathematics as : mathematics\n",
      "Classified Mathematics as : mathematics\n",
      "Classified Political Science as : political science\n",
      "Classified Political Science as : political science\n",
      "Classified Political Science as : political science\n",
      "Classified Political Science as : political science\n",
      "Classified Political Science as : political science\n",
      "Classified Political Science as : political science\n",
      "Classified Political Science as : political science\n",
      "Classified Political Science as : political science\n",
      "Classified Political Science as : political science\n",
      "Classified Political Science as : political science\n",
      "Classified Psychology as : psychology\n",
      "Classified Psychology as : psychology\n",
      "Classified Psychology as : psychology\n",
      "Classified Psychology as : statistics\n",
      "Classified Psychology as : psychology\n",
      "Classified Psychology as : psychology\n",
      "Classified Psychology as : psychology\n",
      "Classified Psychology as : psychology\n",
      "Classified Psychology as : psychology\n",
      "Classified Psychology as : psychology\n",
      "Classified Statistics as : statistics\n",
      "Classified Statistics as : statistics\n",
      "Classified Statistics as : statistics\n",
      "Classified Statistics as : statistics\n",
      "Classified Statistics as : statistics\n",
      "Classified Statistics as : statistics\n",
      "Classified Statistics as : statistics\n",
      "Classified Statistics as : statistics\n",
      "Classified Statistics as : statistics\n"
     ]
    }
   ],
   "source": [
    "# classify my 10 'test' samples for each word\n",
    "\n",
    "my_dict ={0:'biology', 1:'mathematics', 2:'political science',\n",
    "        3:'psychology', 4:'statistics'}\n",
    "\n",
    "\n",
    "print(len(B_test), len(M_test), len(Po_test), len(Ps_test), len(S_test))\n",
    "\n",
    "acc_pct = np.zeros(5)\n",
    "\n",
    "i = 0\n",
    "for test in [B_test, M_test, Po_test, Ps_test, S_test]:\n",
    "    \n",
    "    for obs in test: \n",
    "        s1 = modelB.score(obs)\n",
    "        s2 = modelM.score(obs)\n",
    "        s3 = modelPo.score(obs)\n",
    "        s4 = modelPs.score(obs)\n",
    "        s5 = modelS.score(obs)\n",
    "        # vote on best model\n",
    "        choice = np.argmax([s1,s2,s3,s4,s5])\n",
    "\n",
    "        if choice == i:\n",
    "            acc_pct[i] += 1\n",
    "\n",
    "        print(\"Classified {} as : {}\".format(my_dict[i], my_dict[choice]))\n",
    "\n",
    "    i+=1"
   ]
  },
  {
   "cell_type": "code",
   "execution_count": 26,
   "metadata": {
    "collapsed": false
   },
   "outputs": [
    {
     "name": "stdout",
     "output_type": "stream",
     "text": [
      "[  9.  10.  10.   9.   9.]\n",
      "{'biology': 0.90000000000000002, 'mathematics': 1.0, 'political science': 1.0, 'psychology': 0.90000000000000002, 'statistics': 0.90000000000000002}\n"
     ]
    }
   ],
   "source": [
    "acc_pct /= 10. #*np.ones(5)  \n",
    "\n",
    "#   {:.2f}    .format( )\n",
    "    \n",
    "words =['biology', 'mathematics', 'political science',\n",
    "        'psychology', 'statistics']\n",
    "\n",
    "word_accuracy = dict(zip(words, acc_pct))\n",
    "\n",
    "print(word_accuracy)"
   ]
  },
  {
   "cell_type": "code",
   "execution_count": null,
   "metadata": {
    "collapsed": false
   },
   "outputs": [],
   "source": [
    "# TESTING\n",
    "#a = ['a','b','c','d']\n",
    "#b = [1,2,3,4]\n",
    "#print(dict(zip(a,b)))\n",
    "#print(dict(zip(b,a)))\n",
    "\n",
    "# output\n",
    "#{'a': 1, 'b': 2, 'c': 3, 'd': 4}\n",
    "#{1: 'a', 2: 'b', 3: 'c', 4: 'd'}"
   ]
  }
 ],
 "metadata": {
  "anaconda-cloud": {},
  "kernelspec": {
   "display_name": "Python [py36]",
   "language": "python",
   "name": "Python [py36]"
  },
  "language_info": {
   "codemirror_mode": {
    "name": "ipython",
    "version": 3
   },
   "file_extension": ".py",
   "mimetype": "text/x-python",
   "name": "python",
   "nbconvert_exporter": "python",
   "pygments_lexer": "ipython3",
   "version": "3.6.3"
  }
 },
 "nbformat": 4,
 "nbformat_minor": 2
}
